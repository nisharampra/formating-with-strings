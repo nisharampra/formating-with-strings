{
 "cells": [
  {
   "cell_type": "code",
   "execution_count": 1,
   "id": "c8f3c648",
   "metadata": {},
   "outputs": [
    {
     "name": "stdout",
     "output_type": "stream",
     "text": [
      "this is a stirng inseted\n"
     ]
    }
   ],
   "source": [
    "print(\"this is a stirng {}\".format('inseted'))"
   ]
  },
  {
   "cell_type": "code",
   "execution_count": 2,
   "id": "a1dcd820",
   "metadata": {},
   "outputs": [
    {
     "name": "stdout",
     "output_type": "stream",
     "text": [
      "the fox fox fox\n"
     ]
    }
   ],
   "source": [
    "print('the {0} {0} {0}'.format('fox','brown','quic'))"
   ]
  },
  {
   "cell_type": "code",
   "execution_count": 5,
   "id": "d0411783",
   "metadata": {},
   "outputs": [
    {
     "ename": "IndexError",
     "evalue": "Replacement index 0 out of range for positional args tuple",
     "output_type": "error",
     "traceback": [
      "\u001b[0;31m---------------------------------------------------------------------------\u001b[0m",
      "\u001b[0;31mIndexError\u001b[0m                                Traceback (most recent call last)",
      "Cell \u001b[0;32mIn[5], line 1\u001b[0m\n\u001b[0;32m----> 1\u001b[0m \u001b[38;5;28mprint\u001b[39m(\u001b[38;5;124m'\u001b[39m\u001b[38;5;124mthe \u001b[39m\u001b[38;5;132;01m{0}\u001b[39;00m\u001b[38;5;124m \u001b[39m\u001b[38;5;132;01m{0}\u001b[39;00m\u001b[38;5;124m \u001b[39m\u001b[38;5;132;01m{0}\u001b[39;00m\u001b[38;5;124m'\u001b[39m\u001b[38;5;241m.\u001b[39mformat(f\u001b[38;5;241m=\u001b[39m\u001b[38;5;124m'\u001b[39m\u001b[38;5;124mfox\u001b[39m\u001b[38;5;124m'\u001b[39m,b\u001b[38;5;241m=\u001b[39m\u001b[38;5;124m'\u001b[39m\u001b[38;5;124mbrown\u001b[39m\u001b[38;5;124m'\u001b[39m,q\u001b[38;5;241m=\u001b[39m\u001b[38;5;124m'\u001b[39m\u001b[38;5;124mquic\u001b[39m\u001b[38;5;124m'\u001b[39m))\n",
      "\u001b[0;31mIndexError\u001b[0m: Replacement index 0 out of range for positional args tuple"
     ]
    }
   ],
   "source": [
    "print('the {0} {0} {0}'.format(f='fox',b='brown',q='quic'))"
   ]
  },
  {
   "cell_type": "code",
   "execution_count": 6,
   "id": "d8b1c39d",
   "metadata": {},
   "outputs": [
    {
     "name": "stdout",
     "output_type": "stream",
     "text": [
      "the fox brown quic\n"
     ]
    }
   ],
   "source": [
    "print('the {f} {b} {q}'.format(f='fox',b='brown',q='quic'))"
   ]
  },
  {
   "cell_type": "code",
   "execution_count": null,
   "id": "2071c96b",
   "metadata": {},
   "outputs": [],
   "source": []
  }
 ],
 "metadata": {
  "kernelspec": {
   "display_name": "Python 3 (ipykernel)",
   "language": "python",
   "name": "python3"
  },
  "language_info": {
   "codemirror_mode": {
    "name": "ipython",
    "version": 3
   },
   "file_extension": ".py",
   "mimetype": "text/x-python",
   "name": "python",
   "nbconvert_exporter": "python",
   "pygments_lexer": "ipython3",
   "version": "3.11.5"
  }
 },
 "nbformat": 4,
 "nbformat_minor": 5
}
